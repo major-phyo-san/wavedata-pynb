{
 "cells": [
  {
   "cell_type": "code",
   "execution_count": 1,
   "metadata": {},
   "outputs": [],
   "source": [
    "import numpy as np\n",
    "import pandas as pd\n",
    "from sklearn.metrics import mean_squared_error\n",
    "from sklearn.ensemble import RandomForestRegressor\n",
    "from sklearn.svm import SVR\n",
    "from sklearn.neural_network import MLPRegressor"
   ]
  },
  {
   "cell_type": "code",
   "execution_count": 2,
   "metadata": {},
   "outputs": [],
   "source": [
    "def dataframe_read_shuffle(path):\n",
    "    dataframe = pd.read_csv(path,sep=\",\")\n",
    "    np.random.seed(83)\n",
    "    dataframe = dataframe.reindex(np.random.permutation(dataframe.index))\n",
    "    return dataframe\n",
    "\n",
    "def dataframe_splitter(dataframe):\n",
    "    train_set = dataframe.sample(frac=0.7, random_state=200)\n",
    "    remainframe = dataframe.drop(train_set.index)\n",
    "    validate_set = remainframe.sample(frac=0.5, random_state=200)\n",
    "    test_set = remainframe.drop(validate_set.index)\n",
    "    return train_set,validate_set,test_set\n",
    "\n",
    "def features_target_splitter(dataset, features, target):\n",
    "    X = dataset[features]\n",
    "    y = dataset[target]\n",
    "    return X,y"
   ]
  },
  {
   "cell_type": "code",
   "execution_count": 3,
   "metadata": {},
   "outputs": [],
   "source": [
    "def train_model(model, train_features, train_target):\n",
    "    model.fit(train_features, train_target)"
   ]
  },
  {
   "cell_type": "code",
   "execution_count": 4,
   "metadata": {},
   "outputs": [],
   "source": [
    "def validate_model(model,train_features,train_target,validate_features,validate_target):\n",
    "    rscore_train = model.score(train_features,train_target)\n",
    "    rscore = model.score(validate_features,validate_target)\n",
    "    predictions = model.predict(validate_features)\n",
    "    mse = mean_squared_error(validate_target,predictions)\n",
    "    rmse = np.sqrt(mse)\n",
    "    return rscore_train,rscore,rmse"
   ]
  },
  {
   "cell_type": "code",
   "execution_count": 5,
   "metadata": {},
   "outputs": [],
   "source": [
    "dataframe = dataframe_read_shuffle(\"dataset/wave-data.csv\")"
   ]
  },
  {
   "cell_type": "code",
   "execution_count": 4,
   "metadata": {},
   "outputs": [
    {
     "name": "stdout",
     "output_type": "stream",
     "text": [
      "<class 'pandas.core.frame.DataFrame'>\n",
      "Int64Index: 43728 entries, 5149 to 34898\n",
      "Data columns (total 7 columns):\n",
      "date/time                        43728 non-null object\n",
      "significant wave height          43728 non-null float64\n",
      "max wave height                  43728 non-null float64\n",
      "wave period (zero upcrossing)    43728 non-null float64\n",
      "wave period (peak energy)        43728 non-null float64\n",
      "peak direction                   43728 non-null float64\n",
      "sea surface temp (apx)           43728 non-null float64\n",
      "dtypes: float64(6), object(1)\n",
      "memory usage: 2.7+ MB\n"
     ]
    }
   ],
   "source": [
    "dataframe.info()"
   ]
  },
  {
   "cell_type": "code",
   "execution_count": 5,
   "metadata": {},
   "outputs": [
    {
     "data": {
      "text/html": [
       "<div>\n",
       "<style scoped>\n",
       "    .dataframe tbody tr th:only-of-type {\n",
       "        vertical-align: middle;\n",
       "    }\n",
       "\n",
       "    .dataframe tbody tr th {\n",
       "        vertical-align: top;\n",
       "    }\n",
       "\n",
       "    .dataframe thead th {\n",
       "        text-align: right;\n",
       "    }\n",
       "</style>\n",
       "<table border=\"1\" class=\"dataframe\">\n",
       "  <thead>\n",
       "    <tr style=\"text-align: right;\">\n",
       "      <th></th>\n",
       "      <th>significant wave height</th>\n",
       "      <th>max wave height</th>\n",
       "      <th>wave period (zero upcrossing)</th>\n",
       "      <th>wave period (peak energy)</th>\n",
       "      <th>peak direction</th>\n",
       "      <th>sea surface temp (apx)</th>\n",
       "    </tr>\n",
       "  </thead>\n",
       "  <tbody>\n",
       "    <tr>\n",
       "      <th>count</th>\n",
       "      <td>43728.000000</td>\n",
       "      <td>43728.000000</td>\n",
       "      <td>43728.000000</td>\n",
       "      <td>43728.000000</td>\n",
       "      <td>43728.000000</td>\n",
       "      <td>43728.000000</td>\n",
       "    </tr>\n",
       "    <tr>\n",
       "      <th>mean</th>\n",
       "      <td>1.041140</td>\n",
       "      <td>1.891779</td>\n",
       "      <td>5.412332</td>\n",
       "      <td>8.794887</td>\n",
       "      <td>97.395310</td>\n",
       "      <td>23.207409</td>\n",
       "    </tr>\n",
       "    <tr>\n",
       "      <th>std</th>\n",
       "      <td>4.485922</td>\n",
       "      <td>4.580826</td>\n",
       "      <td>4.739317</td>\n",
       "      <td>5.358859</td>\n",
       "      <td>28.782966</td>\n",
       "      <td>9.813377</td>\n",
       "    </tr>\n",
       "    <tr>\n",
       "      <th>min</th>\n",
       "      <td>-99.900000</td>\n",
       "      <td>-99.900000</td>\n",
       "      <td>-99.900000</td>\n",
       "      <td>-99.900000</td>\n",
       "      <td>-99.900000</td>\n",
       "      <td>-99.900000</td>\n",
       "    </tr>\n",
       "    <tr>\n",
       "      <th>25%</th>\n",
       "      <td>0.838000</td>\n",
       "      <td>1.410000</td>\n",
       "      <td>4.974000</td>\n",
       "      <td>7.286000</td>\n",
       "      <td>85.000000</td>\n",
       "      <td>21.900000</td>\n",
       "    </tr>\n",
       "    <tr>\n",
       "      <th>50%</th>\n",
       "      <td>1.129000</td>\n",
       "      <td>1.900000</td>\n",
       "      <td>5.525000</td>\n",
       "      <td>8.881000</td>\n",
       "      <td>99.000000</td>\n",
       "      <td>23.950000</td>\n",
       "    </tr>\n",
       "    <tr>\n",
       "      <th>75%</th>\n",
       "      <td>1.542000</td>\n",
       "      <td>2.600000</td>\n",
       "      <td>6.162000</td>\n",
       "      <td>10.663250</td>\n",
       "      <td>116.000000</td>\n",
       "      <td>26.050000</td>\n",
       "    </tr>\n",
       "    <tr>\n",
       "      <th>max</th>\n",
       "      <td>4.257000</td>\n",
       "      <td>7.906000</td>\n",
       "      <td>10.921000</td>\n",
       "      <td>21.121000</td>\n",
       "      <td>358.000000</td>\n",
       "      <td>28.650000</td>\n",
       "    </tr>\n",
       "  </tbody>\n",
       "</table>\n",
       "</div>"
      ],
      "text/plain": [
       "       significant wave height  max wave height  \\\n",
       "count             43728.000000     43728.000000   \n",
       "mean                  1.041140         1.891779   \n",
       "std                   4.485922         4.580826   \n",
       "min                 -99.900000       -99.900000   \n",
       "25%                   0.838000         1.410000   \n",
       "50%                   1.129000         1.900000   \n",
       "75%                   1.542000         2.600000   \n",
       "max                   4.257000         7.906000   \n",
       "\n",
       "       wave period (zero upcrossing)  wave period (peak energy)  \\\n",
       "count                   43728.000000               43728.000000   \n",
       "mean                        5.412332                   8.794887   \n",
       "std                         4.739317                   5.358859   \n",
       "min                       -99.900000                 -99.900000   \n",
       "25%                         4.974000                   7.286000   \n",
       "50%                         5.525000                   8.881000   \n",
       "75%                         6.162000                  10.663250   \n",
       "max                        10.921000                  21.121000   \n",
       "\n",
       "       peak direction  sea surface temp (apx)  \n",
       "count    43728.000000            43728.000000  \n",
       "mean        97.395310               23.207409  \n",
       "std         28.782966                9.813377  \n",
       "min        -99.900000              -99.900000  \n",
       "25%         85.000000               21.900000  \n",
       "50%         99.000000               23.950000  \n",
       "75%        116.000000               26.050000  \n",
       "max        358.000000               28.650000  "
      ]
     },
     "execution_count": 5,
     "metadata": {},
     "output_type": "execute_result"
    }
   ],
   "source": [
    "dataframe.describe()"
   ]
  },
  {
   "cell_type": "code",
   "execution_count": 6,
   "metadata": {},
   "outputs": [
    {
     "data": {
      "text/plain": [
       "significant wave height           1.041140\n",
       "max wave height                   1.891779\n",
       "wave period (zero upcrossing)     5.412332\n",
       "wave period (peak energy)         8.794887\n",
       "peak direction                   97.395310\n",
       "sea surface temp (apx)           23.207409\n",
       "dtype: float64"
      ]
     },
     "execution_count": 6,
     "metadata": {},
     "output_type": "execute_result"
    }
   ],
   "source": [
    "dataframe.mean()"
   ]
  },
  {
   "cell_type": "code",
   "execution_count": 7,
   "metadata": {},
   "outputs": [
    {
     "data": {
      "text/html": [
       "<div>\n",
       "<style scoped>\n",
       "    .dataframe tbody tr th:only-of-type {\n",
       "        vertical-align: middle;\n",
       "    }\n",
       "\n",
       "    .dataframe tbody tr th {\n",
       "        vertical-align: top;\n",
       "    }\n",
       "\n",
       "    .dataframe thead th {\n",
       "        text-align: right;\n",
       "    }\n",
       "</style>\n",
       "<table border=\"1\" class=\"dataframe\">\n",
       "  <thead>\n",
       "    <tr style=\"text-align: right;\">\n",
       "      <th></th>\n",
       "      <th>date/time</th>\n",
       "      <th>significant wave height</th>\n",
       "      <th>max wave height</th>\n",
       "      <th>wave period (zero upcrossing)</th>\n",
       "      <th>wave period (peak energy)</th>\n",
       "      <th>peak direction</th>\n",
       "      <th>sea surface temp (apx)</th>\n",
       "    </tr>\n",
       "  </thead>\n",
       "  <tbody>\n",
       "    <tr>\n",
       "      <th>5149</th>\n",
       "      <td>4/18/2017 6:30</td>\n",
       "      <td>1.421</td>\n",
       "      <td>2.14</td>\n",
       "      <td>6.387</td>\n",
       "      <td>14.525</td>\n",
       "      <td>81.0</td>\n",
       "      <td>23.70</td>\n",
       "    </tr>\n",
       "    <tr>\n",
       "      <th>22713</th>\n",
       "      <td>4/19/2018 4:30</td>\n",
       "      <td>1.283</td>\n",
       "      <td>2.24</td>\n",
       "      <td>4.759</td>\n",
       "      <td>6.573</td>\n",
       "      <td>115.0</td>\n",
       "      <td>25.15</td>\n",
       "    </tr>\n",
       "    <tr>\n",
       "      <th>17254</th>\n",
       "      <td>12/26/2017 11:00</td>\n",
       "      <td>0.538</td>\n",
       "      <td>0.97</td>\n",
       "      <td>4.342</td>\n",
       "      <td>6.751</td>\n",
       "      <td>119.0</td>\n",
       "      <td>25.20</td>\n",
       "    </tr>\n",
       "    <tr>\n",
       "      <th>15869</th>\n",
       "      <td>11/27/2017 14:30</td>\n",
       "      <td>1.150</td>\n",
       "      <td>2.07</td>\n",
       "      <td>5.941</td>\n",
       "      <td>8.090</td>\n",
       "      <td>84.0</td>\n",
       "      <td>24.60</td>\n",
       "    </tr>\n",
       "    <tr>\n",
       "      <th>37631</th>\n",
       "      <td>23/02/2019 23:30</td>\n",
       "      <td>-99.900</td>\n",
       "      <td>-99.90</td>\n",
       "      <td>-99.900</td>\n",
       "      <td>-99.900</td>\n",
       "      <td>-99.9</td>\n",
       "      <td>-99.90</td>\n",
       "    </tr>\n",
       "  </tbody>\n",
       "</table>\n",
       "</div>"
      ],
      "text/plain": [
       "              date/time  significant wave height  max wave height  \\\n",
       "5149     4/18/2017 6:30                    1.421             2.14   \n",
       "22713    4/19/2018 4:30                    1.283             2.24   \n",
       "17254  12/26/2017 11:00                    0.538             0.97   \n",
       "15869  11/27/2017 14:30                    1.150             2.07   \n",
       "37631  23/02/2019 23:30                  -99.900           -99.90   \n",
       "\n",
       "       wave period (zero upcrossing)  wave period (peak energy)  \\\n",
       "5149                           6.387                     14.525   \n",
       "22713                          4.759                      6.573   \n",
       "17254                          4.342                      6.751   \n",
       "15869                          5.941                      8.090   \n",
       "37631                        -99.900                    -99.900   \n",
       "\n",
       "       peak direction  sea surface temp (apx)  \n",
       "5149             81.0                   23.70  \n",
       "22713           115.0                   25.15  \n",
       "17254           119.0                   25.20  \n",
       "15869            84.0                   24.60  \n",
       "37631           -99.9                  -99.90  "
      ]
     },
     "execution_count": 7,
     "metadata": {},
     "output_type": "execute_result"
    }
   ],
   "source": [
    "dataframe.head()"
   ]
  },
  {
   "cell_type": "code",
   "execution_count": 6,
   "metadata": {},
   "outputs": [],
   "source": [
    "dataframe = dataframe.replace(-99.9,0)"
   ]
  },
  {
   "cell_type": "code",
   "execution_count": 9,
   "metadata": {},
   "outputs": [
    {
     "name": "stdout",
     "output_type": "stream",
     "text": [
      "<class 'pandas.core.frame.DataFrame'>\n",
      "Int64Index: 43728 entries, 5149 to 34898\n",
      "Data columns (total 7 columns):\n",
      "date/time                        43728 non-null object\n",
      "significant wave height          43728 non-null float64\n",
      "max wave height                  43728 non-null float64\n",
      "wave period (zero upcrossing)    43728 non-null float64\n",
      "wave period (peak energy)        43728 non-null float64\n",
      "peak direction                   43728 non-null float64\n",
      "sea surface temp (apx)           43728 non-null float64\n",
      "dtypes: float64(6), object(1)\n",
      "memory usage: 2.7+ MB\n"
     ]
    }
   ],
   "source": [
    "dataframe.info()"
   ]
  },
  {
   "cell_type": "code",
   "execution_count": 10,
   "metadata": {},
   "outputs": [
    {
     "data": {
      "text/html": [
       "<div>\n",
       "<style scoped>\n",
       "    .dataframe tbody tr th:only-of-type {\n",
       "        vertical-align: middle;\n",
       "    }\n",
       "\n",
       "    .dataframe tbody tr th {\n",
       "        vertical-align: top;\n",
       "    }\n",
       "\n",
       "    .dataframe thead th {\n",
       "        text-align: right;\n",
       "    }\n",
       "</style>\n",
       "<table border=\"1\" class=\"dataframe\">\n",
       "  <thead>\n",
       "    <tr style=\"text-align: right;\">\n",
       "      <th></th>\n",
       "      <th>significant wave height</th>\n",
       "      <th>max wave height</th>\n",
       "      <th>wave period (zero upcrossing)</th>\n",
       "      <th>wave period (peak energy)</th>\n",
       "      <th>peak direction</th>\n",
       "      <th>sea surface temp (apx)</th>\n",
       "    </tr>\n",
       "  </thead>\n",
       "  <tbody>\n",
       "    <tr>\n",
       "      <th>count</th>\n",
       "      <td>43728.000000</td>\n",
       "      <td>43728.000000</td>\n",
       "      <td>43728.000000</td>\n",
       "      <td>43728.000000</td>\n",
       "      <td>43728.000000</td>\n",
       "      <td>43728.000000</td>\n",
       "    </tr>\n",
       "    <tr>\n",
       "      <th>mean</th>\n",
       "      <td>1.235329</td>\n",
       "      <td>2.085968</td>\n",
       "      <td>5.606521</td>\n",
       "      <td>8.989076</td>\n",
       "      <td>98.014430</td>\n",
       "      <td>23.805969</td>\n",
       "    </tr>\n",
       "    <tr>\n",
       "      <th>std</th>\n",
       "      <td>0.530552</td>\n",
       "      <td>0.900880</td>\n",
       "      <td>0.959896</td>\n",
       "      <td>2.421550</td>\n",
       "      <td>25.409106</td>\n",
       "      <td>2.892055</td>\n",
       "    </tr>\n",
       "    <tr>\n",
       "      <th>min</th>\n",
       "      <td>0.000000</td>\n",
       "      <td>0.000000</td>\n",
       "      <td>0.000000</td>\n",
       "      <td>0.000000</td>\n",
       "      <td>0.000000</td>\n",
       "      <td>0.000000</td>\n",
       "    </tr>\n",
       "    <tr>\n",
       "      <th>25%</th>\n",
       "      <td>0.838000</td>\n",
       "      <td>1.410000</td>\n",
       "      <td>4.974000</td>\n",
       "      <td>7.286000</td>\n",
       "      <td>85.000000</td>\n",
       "      <td>21.900000</td>\n",
       "    </tr>\n",
       "    <tr>\n",
       "      <th>50%</th>\n",
       "      <td>1.129000</td>\n",
       "      <td>1.900000</td>\n",
       "      <td>5.525000</td>\n",
       "      <td>8.881000</td>\n",
       "      <td>99.000000</td>\n",
       "      <td>23.950000</td>\n",
       "    </tr>\n",
       "    <tr>\n",
       "      <th>75%</th>\n",
       "      <td>1.542000</td>\n",
       "      <td>2.600000</td>\n",
       "      <td>6.162000</td>\n",
       "      <td>10.663250</td>\n",
       "      <td>116.000000</td>\n",
       "      <td>26.050000</td>\n",
       "    </tr>\n",
       "    <tr>\n",
       "      <th>max</th>\n",
       "      <td>4.257000</td>\n",
       "      <td>7.906000</td>\n",
       "      <td>10.921000</td>\n",
       "      <td>21.121000</td>\n",
       "      <td>358.000000</td>\n",
       "      <td>28.650000</td>\n",
       "    </tr>\n",
       "  </tbody>\n",
       "</table>\n",
       "</div>"
      ],
      "text/plain": [
       "       significant wave height  max wave height  \\\n",
       "count             43728.000000     43728.000000   \n",
       "mean                  1.235329         2.085968   \n",
       "std                   0.530552         0.900880   \n",
       "min                   0.000000         0.000000   \n",
       "25%                   0.838000         1.410000   \n",
       "50%                   1.129000         1.900000   \n",
       "75%                   1.542000         2.600000   \n",
       "max                   4.257000         7.906000   \n",
       "\n",
       "       wave period (zero upcrossing)  wave period (peak energy)  \\\n",
       "count                   43728.000000               43728.000000   \n",
       "mean                        5.606521                   8.989076   \n",
       "std                         0.959896                   2.421550   \n",
       "min                         0.000000                   0.000000   \n",
       "25%                         4.974000                   7.286000   \n",
       "50%                         5.525000                   8.881000   \n",
       "75%                         6.162000                  10.663250   \n",
       "max                        10.921000                  21.121000   \n",
       "\n",
       "       peak direction  sea surface temp (apx)  \n",
       "count    43728.000000            43728.000000  \n",
       "mean        98.014430               23.805969  \n",
       "std         25.409106                2.892055  \n",
       "min          0.000000                0.000000  \n",
       "25%         85.000000               21.900000  \n",
       "50%         99.000000               23.950000  \n",
       "75%        116.000000               26.050000  \n",
       "max        358.000000               28.650000  "
      ]
     },
     "execution_count": 10,
     "metadata": {},
     "output_type": "execute_result"
    }
   ],
   "source": [
    "dataframe.describe()"
   ]
  },
  {
   "cell_type": "code",
   "execution_count": 11,
   "metadata": {},
   "outputs": [
    {
     "data": {
      "text/html": [
       "<div>\n",
       "<style scoped>\n",
       "    .dataframe tbody tr th:only-of-type {\n",
       "        vertical-align: middle;\n",
       "    }\n",
       "\n",
       "    .dataframe tbody tr th {\n",
       "        vertical-align: top;\n",
       "    }\n",
       "\n",
       "    .dataframe thead th {\n",
       "        text-align: right;\n",
       "    }\n",
       "</style>\n",
       "<table border=\"1\" class=\"dataframe\">\n",
       "  <thead>\n",
       "    <tr style=\"text-align: right;\">\n",
       "      <th></th>\n",
       "      <th>date/time</th>\n",
       "      <th>significant wave height</th>\n",
       "      <th>max wave height</th>\n",
       "      <th>wave period (zero upcrossing)</th>\n",
       "      <th>wave period (peak energy)</th>\n",
       "      <th>peak direction</th>\n",
       "      <th>sea surface temp (apx)</th>\n",
       "    </tr>\n",
       "  </thead>\n",
       "  <tbody>\n",
       "    <tr>\n",
       "      <th>5149</th>\n",
       "      <td>4/18/2017 6:30</td>\n",
       "      <td>1.421</td>\n",
       "      <td>2.14</td>\n",
       "      <td>6.387</td>\n",
       "      <td>14.525</td>\n",
       "      <td>81.0</td>\n",
       "      <td>23.70</td>\n",
       "    </tr>\n",
       "    <tr>\n",
       "      <th>22713</th>\n",
       "      <td>4/19/2018 4:30</td>\n",
       "      <td>1.283</td>\n",
       "      <td>2.24</td>\n",
       "      <td>4.759</td>\n",
       "      <td>6.573</td>\n",
       "      <td>115.0</td>\n",
       "      <td>25.15</td>\n",
       "    </tr>\n",
       "    <tr>\n",
       "      <th>17254</th>\n",
       "      <td>12/26/2017 11:00</td>\n",
       "      <td>0.538</td>\n",
       "      <td>0.97</td>\n",
       "      <td>4.342</td>\n",
       "      <td>6.751</td>\n",
       "      <td>119.0</td>\n",
       "      <td>25.20</td>\n",
       "    </tr>\n",
       "    <tr>\n",
       "      <th>15869</th>\n",
       "      <td>11/27/2017 14:30</td>\n",
       "      <td>1.150</td>\n",
       "      <td>2.07</td>\n",
       "      <td>5.941</td>\n",
       "      <td>8.090</td>\n",
       "      <td>84.0</td>\n",
       "      <td>24.60</td>\n",
       "    </tr>\n",
       "    <tr>\n",
       "      <th>37631</th>\n",
       "      <td>23/02/2019 23:30</td>\n",
       "      <td>0.000</td>\n",
       "      <td>0.00</td>\n",
       "      <td>0.000</td>\n",
       "      <td>0.000</td>\n",
       "      <td>0.0</td>\n",
       "      <td>0.00</td>\n",
       "    </tr>\n",
       "  </tbody>\n",
       "</table>\n",
       "</div>"
      ],
      "text/plain": [
       "              date/time  significant wave height  max wave height  \\\n",
       "5149     4/18/2017 6:30                    1.421             2.14   \n",
       "22713    4/19/2018 4:30                    1.283             2.24   \n",
       "17254  12/26/2017 11:00                    0.538             0.97   \n",
       "15869  11/27/2017 14:30                    1.150             2.07   \n",
       "37631  23/02/2019 23:30                    0.000             0.00   \n",
       "\n",
       "       wave period (zero upcrossing)  wave period (peak energy)  \\\n",
       "5149                           6.387                     14.525   \n",
       "22713                          4.759                      6.573   \n",
       "17254                          4.342                      6.751   \n",
       "15869                          5.941                      8.090   \n",
       "37631                          0.000                      0.000   \n",
       "\n",
       "       peak direction  sea surface temp (apx)  \n",
       "5149             81.0                   23.70  \n",
       "22713           115.0                   25.15  \n",
       "17254           119.0                   25.20  \n",
       "15869            84.0                   24.60  \n",
       "37631             0.0                    0.00  "
      ]
     },
     "execution_count": 11,
     "metadata": {},
     "output_type": "execute_result"
    }
   ],
   "source": [
    "dataframe.head()"
   ]
  },
  {
   "cell_type": "code",
   "execution_count": 7,
   "metadata": {},
   "outputs": [],
   "source": [
    "train, validate, test = dataframe_splitter(dataframe)"
   ]
  },
  {
   "cell_type": "code",
   "execution_count": 8,
   "metadata": {},
   "outputs": [],
   "source": [
    "X_train, y_train = features_target_splitter(train, [\"significant wave height\", \"wave period (zero upcrossing)\", \"wave period (peak energy)\", \"peak direction\", \"sea surface temp (apx)\"],[\"max wave height\"])"
   ]
  },
  {
   "cell_type": "code",
   "execution_count": 9,
   "metadata": {},
   "outputs": [],
   "source": [
    "X_validate, y_validate = features_target_splitter(validate, [\"significant wave height\", \"wave period (zero upcrossing)\", \"wave period (peak energy)\", \"peak direction\", \"sea surface temp (apx)\"],[\"max wave height\"])"
   ]
  },
  {
   "cell_type": "code",
   "execution_count": 10,
   "metadata": {},
   "outputs": [],
   "source": [
    "X_test, y_test = features_target_splitter(test, [\"significant wave height\", \"wave period (zero upcrossing)\", \"wave period (peak energy)\", \"peak direction\", \"sea surface temp (apx)\"],[\"max wave height\"])"
   ]
  },
  {
   "cell_type": "code",
   "execution_count": 11,
   "metadata": {},
   "outputs": [],
   "source": [
    "randfor_reg = RandomForestRegressor(n_estimators=20,random_state=5,n_jobs=1,max_features=4,max_depth=7)"
   ]
  },
  {
   "cell_type": "code",
   "execution_count": 17,
   "metadata": {},
   "outputs": [],
   "source": [
    "svm_reg = SVR(C=1,gamma=0.1,kernel=\"rbf\",degree=3,epsilon=0.01,max_iter=-1)"
   ]
  },
  {
   "cell_type": "code",
   "execution_count": 45,
   "metadata": {},
   "outputs": [],
   "source": [
    "nn_reg = MLPRegressor(\n",
    "    solver=\"lbfgs\",random_state=2,activation=\"relu\",hidden_layer_sizes=[5,3],alpha=1,max_iter=250,\n",
    "    batch_size=150, learning_rate=\"constant\", learning_rate_init=0.00001\n",
    ")"
   ]
  },
  {
   "cell_type": "code",
   "execution_count": 21,
   "metadata": {},
   "outputs": [
    {
     "name": "stderr",
     "output_type": "stream",
     "text": [
      "c:\\users\\techman\\appdata\\local\\programs\\python\\python35\\lib\\site-packages\\ipykernel_launcher.py:2: DataConversionWarning: A column-vector y was passed when a 1d array was expected. Please change the shape of y to (n_samples,), for example using ravel().\n",
      "  \n"
     ]
    }
   ],
   "source": [
    "train_model(randfor_reg,X_train,y_train)"
   ]
  },
  {
   "cell_type": "code",
   "execution_count": 22,
   "metadata": {},
   "outputs": [
    {
     "name": "stdout",
     "output_type": "stream",
     "text": [
      "RandForest r score training: 0.950\n",
      "RandForest r score: 0.947\n",
      "RandForest RMSE: 0.2093\n"
     ]
    }
   ],
   "source": [
    "randfor_rscore_train,randfor_rscore,randfor_rmse = validate_model(randfor_reg,X_train,y_train,X_validate,y_validate)\n",
    "print(\"RandForest r score training: {:.3f}\".format(randfor_rscore_train))\n",
    "print(\"RandForest r score: {:.3f}\".format(randfor_rscore))\n",
    "print(\"RandForest RMSE: {:.4f}\".format(randfor_rmse))"
   ]
  },
  {
   "cell_type": "code",
   "execution_count": 18,
   "metadata": {},
   "outputs": [
    {
     "name": "stderr",
     "output_type": "stream",
     "text": [
      "c:\\users\\techman\\appdata\\local\\programs\\python\\python35\\lib\\site-packages\\sklearn\\utils\\validation.py:724: DataConversionWarning: A column-vector y was passed when a 1d array was expected. Please change the shape of y to (n_samples, ), for example using ravel().\n",
      "  y = column_or_1d(y, warn=True)\n"
     ]
    }
   ],
   "source": [
    "train_model(svm_reg,X_train,y_train)"
   ]
  },
  {
   "cell_type": "code",
   "execution_count": 19,
   "metadata": {},
   "outputs": [
    {
     "name": "stdout",
     "output_type": "stream",
     "text": [
      "SVM r score training: 0.944\n",
      "SVM r score: 0.936\n",
      "SVM RMSE: 0.2293\n"
     ]
    }
   ],
   "source": [
    "svm_rscore_train,svm_rscore,svm_rmse = validate_model(svm_reg,X_train,y_train,X_validate,y_validate)\n",
    "print(\"SVM r score training: {:.3f}\".format(svm_rscore_train))\n",
    "print(\"SVM r score: {:.3f}\".format(svm_rscore))\n",
    "print(\"SVM RMSE: {:.4f}\".format(svm_rmse))"
   ]
  },
  {
   "cell_type": "code",
   "execution_count": 46,
   "metadata": {},
   "outputs": [
    {
     "name": "stderr",
     "output_type": "stream",
     "text": [
      "c:\\users\\techman\\appdata\\local\\programs\\python\\python35\\lib\\site-packages\\sklearn\\neural_network\\multilayer_perceptron.py:1321: DataConversionWarning: A column-vector y was passed when a 1d array was expected. Please change the shape of y to (n_samples, ), for example using ravel().\n",
      "  y = column_or_1d(y, warn=True)\n"
     ]
    }
   ],
   "source": [
    "train_model(nn_reg,X_train,y_train)"
   ]
  },
  {
   "cell_type": "code",
   "execution_count": 47,
   "metadata": {},
   "outputs": [
    {
     "name": "stdout",
     "output_type": "stream",
     "text": [
      "NeuralNet r score training: 0.947\n",
      "NeuralNet r score: 0.947\n",
      "NeuralNet RMSE: 0.2079\n"
     ]
    }
   ],
   "source": [
    "nn_rscore_train,nn_rscore,nn_rmse = validate_model(nn_reg,X_train,y_train,X_validate,y_validate)\n",
    "print(\"NeuralNet r score training: {:.3f}\".format(nn_rscore_train))\n",
    "print(\"NeuralNet r score: {:.3f}\".format(nn_rscore))\n",
    "print(\"NeuralNet RMSE: {:.4f}\".format(nn_rmse))"
   ]
  },
  {
   "cell_type": "code",
   "execution_count": 30,
   "metadata": {},
   "outputs": [
    {
     "data": {
      "text/html": [
       "<div>\n",
       "<style scoped>\n",
       "    .dataframe tbody tr th:only-of-type {\n",
       "        vertical-align: middle;\n",
       "    }\n",
       "\n",
       "    .dataframe tbody tr th {\n",
       "        vertical-align: top;\n",
       "    }\n",
       "\n",
       "    .dataframe thead th {\n",
       "        text-align: right;\n",
       "    }\n",
       "</style>\n",
       "<table border=\"1\" class=\"dataframe\">\n",
       "  <thead>\n",
       "    <tr style=\"text-align: right;\">\n",
       "      <th></th>\n",
       "      <th>date/time</th>\n",
       "      <th>significant wave height</th>\n",
       "      <th>max wave height</th>\n",
       "      <th>wave period (zero upcrossing)</th>\n",
       "      <th>wave period (peak energy)</th>\n",
       "      <th>peak direction</th>\n",
       "      <th>sea surface temp (apx)</th>\n",
       "    </tr>\n",
       "  </thead>\n",
       "  <tbody>\n",
       "    <tr>\n",
       "      <th>5149</th>\n",
       "      <td>4/18/2017 6:30</td>\n",
       "      <td>1.421</td>\n",
       "      <td>2.14</td>\n",
       "      <td>6.387</td>\n",
       "      <td>14.525</td>\n",
       "      <td>81.0</td>\n",
       "      <td>23.70</td>\n",
       "    </tr>\n",
       "    <tr>\n",
       "      <th>17254</th>\n",
       "      <td>12/26/2017 11:00</td>\n",
       "      <td>0.538</td>\n",
       "      <td>0.97</td>\n",
       "      <td>4.342</td>\n",
       "      <td>6.751</td>\n",
       "      <td>119.0</td>\n",
       "      <td>25.20</td>\n",
       "    </tr>\n",
       "    <tr>\n",
       "      <th>15869</th>\n",
       "      <td>11/27/2017 14:30</td>\n",
       "      <td>1.150</td>\n",
       "      <td>2.07</td>\n",
       "      <td>5.941</td>\n",
       "      <td>8.090</td>\n",
       "      <td>84.0</td>\n",
       "      <td>24.60</td>\n",
       "    </tr>\n",
       "    <tr>\n",
       "      <th>37631</th>\n",
       "      <td>23/02/2019 23:30</td>\n",
       "      <td>0.000</td>\n",
       "      <td>0.00</td>\n",
       "      <td>0.000</td>\n",
       "      <td>0.000</td>\n",
       "      <td>0.0</td>\n",
       "      <td>0.00</td>\n",
       "    </tr>\n",
       "    <tr>\n",
       "      <th>30842</th>\n",
       "      <td>10/05/2018 13:00</td>\n",
       "      <td>1.052</td>\n",
       "      <td>1.95</td>\n",
       "      <td>6.823</td>\n",
       "      <td>9.521</td>\n",
       "      <td>98.0</td>\n",
       "      <td>21.95</td>\n",
       "    </tr>\n",
       "  </tbody>\n",
       "</table>\n",
       "</div>"
      ],
      "text/plain": [
       "              date/time  significant wave height  max wave height  \\\n",
       "5149     4/18/2017 6:30                    1.421             2.14   \n",
       "17254  12/26/2017 11:00                    0.538             0.97   \n",
       "15869  11/27/2017 14:30                    1.150             2.07   \n",
       "37631  23/02/2019 23:30                    0.000             0.00   \n",
       "30842  10/05/2018 13:00                    1.052             1.95   \n",
       "\n",
       "       wave period (zero upcrossing)  wave period (peak energy)  \\\n",
       "5149                           6.387                     14.525   \n",
       "17254                          4.342                      6.751   \n",
       "15869                          5.941                      8.090   \n",
       "37631                          0.000                      0.000   \n",
       "30842                          6.823                      9.521   \n",
       "\n",
       "       peak direction  sea surface temp (apx)  \n",
       "5149             81.0                   23.70  \n",
       "17254           119.0                   25.20  \n",
       "15869            84.0                   24.60  \n",
       "37631             0.0                    0.00  \n",
       "30842            98.0                   21.95  "
      ]
     },
     "execution_count": 30,
     "metadata": {},
     "output_type": "execute_result"
    }
   ],
   "source": [
    "test.head()"
   ]
  },
  {
   "cell_type": "code",
   "execution_count": 49,
   "metadata": {},
   "outputs": [
    {
     "name": "stdout",
     "output_type": "stream",
     "text": [
      "[1.929229]\n"
     ]
    }
   ],
   "source": [
    "prediction = randfor_reg.predict([[1.150,5.941,8.090,84.0,24.60]])\n",
    "print(prediction)"
   ]
  },
  {
   "cell_type": "code",
   "execution_count": 48,
   "metadata": {},
   "outputs": [
    {
     "name": "stdout",
     "output_type": "stream",
     "text": [
      "[1.93593659]\n"
     ]
    }
   ],
   "source": [
    "prediction = nn_reg.predict([[1.150,5.941,8.090,84.0,24.60]])\n",
    "print(prediction)"
   ]
  },
  {
   "cell_type": "code",
   "execution_count": null,
   "metadata": {},
   "outputs": [],
   "source": []
  }
 ],
 "metadata": {
  "kernelspec": {
   "display_name": "Python 3",
   "language": "python",
   "name": "python3"
  },
  "language_info": {
   "codemirror_mode": {
    "name": "ipython",
    "version": 3
   },
   "file_extension": ".py",
   "mimetype": "text/x-python",
   "name": "python",
   "nbconvert_exporter": "python",
   "pygments_lexer": "ipython3",
   "version": "3.5.4rc1"
  }
 },
 "nbformat": 4,
 "nbformat_minor": 4
}
